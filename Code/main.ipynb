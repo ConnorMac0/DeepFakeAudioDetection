{
 "cells": [
  {
   "cell_type": "code",
   "execution_count": null,
   "metadata": {},
   "outputs": [],
   "source": [
    "\"\"\"we will import all data here and launch all functionality\"\"\"\n",
    "import os\n",
    "import numpy as np\n",
    "import pandas as pd\n",
    "from matplotlib import pyplot as plt\n",
    "import tensorflow as tf\n",
    "from tensorflow.keras import layers, models\n",
    "from sklearn.model_selection import train_test_split\n",
    "from sklearn.preprocessing import LabelEncoder\n",
    "from sklearn.utils import shuffle"
   ]
  },
  {
   "cell_type": "code",
   "execution_count": null,
   "metadata": {},
   "outputs": [],
   "source": [
    "DATASET_PATH = \"\"  # Change this to your path\n",
    "\n",
    "# Constants to hold paths to the dataset\n",
    "AUDIO = \"/AUDIO\"\n",
    "LABELS_FILE = os.path.join(DATASET_PATH, \"DATASET-balanced.csv\")\n",
    "REAL_FOLDER = os.path.join(DATASET_PATH, AUDIO, \"REAL\")\n",
    "FAKE_FOLDER = os.path.join(DATASET_PATH, AUDIO, \"FAKE\")\n",
    "\n",
    "# Load labels from CSV\n",
    "labels_df = pd.read_csv(LABELS_FILE)\n",
    "\n",
    "# Use the index as an identifier, not sure if this is right, may have to look for a better way to do this\n",
    "file_paths = [os.path.join(REAL_FOLDER if label == 'REAL' else FAKE_FOLDER, f\"{index}.png\") for index, label in labels_df[['LABEL']].itertuples(index=True, name=None)]\n",
    "class_labels = labels_df['LABEL'].values\n",
    "\n",
    "# Convert class labels to numerical labels\n",
    "label_encoder = LabelEncoder()\n",
    "numeric_labels = label_encoder.fit_transform(class_labels)"
   ]
  },
  {
   "cell_type": "code",
   "execution_count": null,
   "metadata": {},
   "outputs": [],
   "source": [
    "# Function to load and preprocess audio data\n",
    "def load_and_preprocess_data(file_paths, numeric_labels):\n",
    "    audio_data = []\n",
    "\n",
    "    for file_path in file_paths:\n",
    "        # Add code to load and preprocess audio data\n",
    "     \n",
    "\n",
    "    # Convert the list of audio data to numpy array\n",
    "        audio_data = np.array(audio_data)\n",
    "\n",
    "    return audio_data, numeric_labels"
   ]
  },
  {
   "cell_type": "code",
   "execution_count": null,
   "metadata": {},
   "outputs": [],
   "source": [
    "# Load and preprocess audio data\n",
    "audio_data, numeric_labels = load_and_preprocess_data(file_paths, numeric_labels)\n",
    "\n",
    "# Split the data into training and testing sets goes here\n",
    "\n",
    "\n",
    "# Define the NN model\n",
    "model = models.Sequential([\n",
    " \n",
    "])\n",
    "\n",
    "# Compile the model\n",
    "model.compile(optimizer='adam', loss='sparse_categorical_crossentropy', metrics=['accuracy'])\n",
    "\n",
    "# Train the model\n",
    "#model.fit(X_train, y_train, epochs=5, validation_data=(X_test, y_test))\n",
    "\n",
    "# Evaluate the model\n",
    "#test_loss, test_acc = model.evaluate(X_test, y_test)\n",
    "\n",
    "print(f\"Test Accuracy: \")"
   ]
  }
 ],
 "metadata": {
  "kernelspec": {
   "display_name": "Python 3",
   "language": "python",
   "name": "python3"
  },
  "language_info": {
   "name": "python",
   "version": "3.12.1"
  },
  "orig_nbformat": 4,
  "vscode": {
   "interpreter": {
    "hash": "7500c3e1c7c786e4ba1e4b4eb7588219b4e35d5153674f92eb3a82672b534f6e"
   }
  }
 },
 "nbformat": 4,
 "nbformat_minor": 2
}
